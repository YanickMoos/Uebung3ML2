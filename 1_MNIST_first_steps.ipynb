{
  "cells": [
    {
      "cell_type": "markdown",
      "metadata": {
        "id": "USSV_OlCFKOD"
      },
      "source": [
        "# Training a neural network on MNIST with Keras&Tensorflow\n",
        "\n"
      ]
    },
    {
      "cell_type": "markdown",
      "metadata": {
        "id": "zyAWszXJDBZF"
      },
      "source": [
        "In this Notebook you will start playing with the \"Hello World\" of Nueral Networks: The MNIST Dataset. And we will expand from there."
      ]
    },
    {
      "cell_type": "markdown",
      "metadata": {
        "id": "_PXUHrp3DBZF"
      },
      "source": [
        "### 1. Classification of hand-written digits"
      ]
    },
    {
      "cell_type": "code",
      "execution_count": 2,
      "metadata": {
        "id": "TTBSvHcSLBzc"
      },
      "outputs": [
        {
          "name": "stderr",
          "output_type": "stream",
          "text": [
            "2025-04-15 14:47:01.004707: I tensorflow/core/util/port.cc:153] oneDNN custom operations are on. You may see slightly different numerical results due to floating-point round-off errors from different computation orders. To turn them off, set the environment variable `TF_ENABLE_ONEDNN_OPTS=0`.\n",
            "2025-04-15 14:47:01.027881: I external/local_xla/xla/tsl/cuda/cudart_stub.cc:32] Could not find cuda drivers on your machine, GPU will not be used.\n",
            "2025-04-15 14:47:01.326866: I external/local_xla/xla/tsl/cuda/cudart_stub.cc:32] Could not find cuda drivers on your machine, GPU will not be used.\n",
            "2025-04-15 14:47:01.442383: E external/local_xla/xla/stream_executor/cuda/cuda_fft.cc:467] Unable to register cuFFT factory: Attempting to register factory for plugin cuFFT when one has already been registered\n",
            "WARNING: All log messages before absl::InitializeLog() is called are written to STDERR\n",
            "E0000 00:00:1744728421.717260    8096 cuda_dnn.cc:8579] Unable to register cuDNN factory: Attempting to register factory for plugin cuDNN when one has already been registered\n",
            "E0000 00:00:1744728421.807904    8096 cuda_blas.cc:1407] Unable to register cuBLAS factory: Attempting to register factory for plugin cuBLAS when one has already been registered\n",
            "W0000 00:00:1744728422.454930    8096 computation_placer.cc:177] computation placer already registered. Please check linkage and avoid linking the same target more than once.\n",
            "W0000 00:00:1744728422.454974    8096 computation_placer.cc:177] computation placer already registered. Please check linkage and avoid linking the same target more than once.\n",
            "W0000 00:00:1744728422.454979    8096 computation_placer.cc:177] computation placer already registered. Please check linkage and avoid linking the same target more than once.\n",
            "W0000 00:00:1744728422.454983    8096 computation_placer.cc:177] computation placer already registered. Please check linkage and avoid linking the same target more than once.\n",
            "2025-04-15 14:47:02.502787: I tensorflow/core/platform/cpu_feature_guard.cc:210] This TensorFlow binary is optimized to use available CPU instructions in performance-critical operations.\n",
            "To enable the following instructions: AVX2 AVX512F AVX512_VNNI FMA, in other operations, rebuild TensorFlow with the appropriate compiler flags.\n"
          ]
        }
      ],
      "source": [
        "import tensorflow as tf\n",
        "import matplotlib.pyplot as plt\n",
        "import numpy as np"
      ]
    },
    {
      "cell_type": "code",
      "execution_count": 3,
      "metadata": {
        "id": "iRSLoGXXDBZG"
      },
      "outputs": [
        {
          "data": {
            "text/plain": [
              "'2.19.0'"
            ]
          },
          "execution_count": 3,
          "metadata": {},
          "output_type": "execute_result"
        }
      ],
      "source": [
        "tf.__version__\n"
      ]
    },
    {
      "cell_type": "code",
      "execution_count": null,
      "metadata": {
        "id": "80zHCUbvDBZG"
      },
      "outputs": [
        {
          "data": {
            "text/plain": [
              "(60000, 28, 28)"
            ]
          },
          "execution_count": 4,
          "metadata": {},
          "output_type": "execute_result"
        }
      ],
      "source": [
        "# Laden der Mistdaten (Bilder und Labels)\n",
        "#\n",
        "# MNIST Modul wird in variable gespeichert\n",
        "# Das Modul enthält die Methode load_data() über die ich den Datensatz herunterladen kann\n",
        "# In x_train_full werden Trainingsbilder gespeichert und in y_train_full die Labels (Zahlen) zu diesen Bildern\n",
        "# X_train_full.shape\tZeigt, wie viele Bilder da sind und wie groß sie sind (28x28 Pixel)\n",
        "# Beim Splitten in die Sets sollen Daten ca balanciert (gleichmässig) auf Klassen verteilt sein ()\n",
        "mnist = tf.keras.datasets.mnist\n",
        "(X_train_full, y_train_full), (X_test, y_test) = mnist.load_data()\n",
        "X_train_full.shape"
      ]
    },
    {
      "cell_type": "code",
      "execution_count": 5,
      "metadata": {
        "id": "A0KjuDf7XiqY"
      },
      "outputs": [],
      "source": [
        "# Validierungs und Trainingssets bilden und Pixelwere auf 0-1 transformieren\n",
        "#\n",
        "# In x_valid werden die ersten 5000 Bilder als Validierungsdatensatz gespeichert und in x Train die restlichen ab Bild 5000\n",
        "# Durch 255 teilen -> alle Pixelwerte werden durch 255 geteilt damit dann zwischen 0 und 1 liegen für neuronale Netze besser\n",
        "X_valid, X_train = X_train_full[:5000] / 255., X_train_full[5000:] / 255.# we want to have the input between 0 and 1\n",
        "y_valid, y_train = y_train_full[:5000], y_train_full[5000:]\n",
        "X_test = X_test / 255."
      ]
    },
    {
      "cell_type": "code",
      "execution_count": null,
      "metadata": {
        "id": "ZwWz09nNDBZH"
      },
      "outputs": [
        {
          "data": {
            "image/png": "[encoded data removed]",
            "text/plain": [
              "<Figure size 1200x480 with 40 Axes>"
            ]
          },
          "metadata": {},
          "output_type": "display_data"
        }
      ],
      "source": [
        "# Die ersten 40 Bilder des Trainingssets in eine Grafik packen und ausgeben\n",
        "#\n",
        "# Mit Matplotlib wird eine Grafik erstellt (Grössenparameter etc mitgeben) mit Platz für 40 Bilder\n",
        "n_rows = 4\n",
        "n_cols = 10\n",
        "plt.figure(figsize=(n_cols * 1.2, n_rows * 1.2))\n",
        "for row in range(n_rows):\n",
        "    for col in range(n_cols):\n",
        "        index = n_cols * row + col\n",
        "        plt.subplot(n_rows, n_cols, index + 1)\n",
        "        plt.imshow(X_train[index], cmap=\"binary\", interpolation=\"nearest\")\n",
        "        plt.axis('off')\n",
        "plt.subplots_adjust(wspace=0.2, hspace=0.5)\n",
        "plt.show()"
      ]
    },
    {
      "cell_type": "code",
      "execution_count": 7,
      "metadata": {
        "id": "4bZ9GaRCDBZH"
      },
      "outputs": [
        {
          "data": {
            "image/png": "[encoded data removed]",
            "text/plain": [
              "<Figure size 640x480 with 1 Axes>"
            ]
          },
          "metadata": {},
          "output_type": "display_data"
        }
      ],
      "source": [
        "# Bild Nr 5 in schwarz weiss (binary) anzeigen\n",
        "plt.imshow(X_train[5], cmap=\"binary\")\n",
        "plt.axis('off')\n",
        "plt.show()"
      ]
    },
    {
      "cell_type": "code",
      "execution_count": 8,
      "metadata": {
        "id": "Uzi_WEUFDBZH"
      },
      "outputs": [
        {
          "data": {
            "text/plain": [
              "array([7, 3, 4, ..., 5, 6, 8], dtype=uint8)"
            ]
          },
          "execution_count": 8,
          "metadata": {},
          "output_type": "execute_result"
        }
      ],
      "source": [
        "y_train"
      ]
    },
    {
      "cell_type": "markdown",
      "metadata": {
        "id": "nTFoji3INMEM"
      },
      "source": [
        "### Create and train the model\n",
        "Implement an ANN with 2 Hidden Layers, the first with 128 neurons and \"relu\" activation functions. The second layers instead contains 64 neurons (also relu activation function).\n",
        "Don't forget the output layer :)\n",
        "\n",
        "Also, remember that due to the 2D structure of your input data you need to first flatten them. Use the following specific layer at the very beginning inside your Sequential Model:\n",
        "\n",
        "\n",
        "tf.keras.layers.Flatten(input_shape=(28, 28))\n",
        "\n",
        "Notabene: you don't need to provide the input_dim in the first Dense layer, if you start with a Flatten layer."
      ]
    },
    {
      "cell_type": "code",
      "execution_count": null,
      "metadata": {
        "id": "eGUtUsHXDBZH"
      },
      "outputs": [
        {
          "name": "stderr",
          "output_type": "stream",
          "text": [
            "/usr/local/python/3.12.1/lib/python3.12/site-packages/keras/src/layers/reshaping/flatten.py:37: UserWarning: Do not pass an `input_shape`/`input_dim` argument to a layer. When using Sequential models, prefer using an `Input(shape)` object as the first layer in the model instead.\n",
            "  super().__init__(**kwargs)\n",
            "2025-04-15 14:47:10.329372: E external/local_xla/xla/stream_executor/cuda/cuda_platform.cc:51] failed call to cuInit: INTERNAL: CUDA error: Failed call to cuInit: UNKNOWN ERROR (303)\n"
          ]
        }
      ],
      "source": [
        "#TODOOOOOOOOOOOOOOOOOOOOOOOOOOOOOOOOOOOOOOOOOOOOOOOOOOOOOOO\n",
        "# Flatten -> 28*28 zu 784 Zahlen Vektor (kein input-dim mehr nötig)\n",
        "# Dense -> jedes Neuron erhält alle Werte des Vektors, gewichtet sie (im Training) und bildet 1 neuen Wert und wendet darauf Aktivierungsfunktion an (128N -> neuer Vektor mit 128 Wert)\n",
        "# Relu (Hidden Layer)= Alle irrelevanten Werte rausfiltern & auch Kurven etc in Bild erkennen\n",
        "# Für Ausgabeschicht:\n",
        "# Softmax = Vektor in Wahrscheinlichkeiten umwandeln (Klassifikation mehrerer Klassen)\n",
        "# Sigmoid (für Binary) (activation=\"sigmoid\")\n",
        "# Linear für Regression (activation=\"linear\")\n",
        "# \n",
        "# Neues Modell wird erstellt und in model gespeichert\n",
        "# Flatten: Bilder sind 28x28 gross wie man weiter oben beim Output von \"X_train_full.shape\" sieht. Das 1 steht für die Farbstufe (1=graustufenbild)\n",
        "# Flatten formt das 3D Bild (28x28x1) in einen flachen Vektor mit 784 Werten um, da Neutonale Netzwerke eine Liste von Zahlen (Vektoren) und keine Matrix / Bildform brauchen.\n",
        "# Da ich Flatten mache braucht es kein Input-dim mehr (wäre für angabe wieviele Zahlen im Vektor sind und das ist ja hier durch die Umwandlung in den Vektor bereits gegeben) \n",
        "# Vektor = Liste von Zahlen (meist Array) mit den Feature Werten (zb Grösse, Gewicht, Alter) oder bei einem 28*28*1 Bild halt die \"Beschreibung\" der 784 Pixel pro Bild\n",
        "# Dense Schichten: Jedes Neuron kann etwas anderes Lernen zb. N1 erkennt Rundungen, N2 gerade Linien, N3 reagiert stark auf linke obere Ecken (128 Neuronen können 128 Muster glz erkennen)\n",
        "# Dense: Hier wird eine Schicht mit zb 128 Neuronen erzeugt. Jedes Neuron berechnet einen Wert für das ganze Bild, indem es jeden einzelnen Pixelwert im Vektor mit einem Gewicht multipliziert\n",
        "# Gewicht ist das was das NN im Training lernt und anpasst (zb. w1*x1 + w2*x2... wn*xn + b (bias) = z (wert des Neurons)). Das Ergebnis wird dann durch eine Aktivierungsfunktion geschickt.\n",
        "# Aktivierungsfunktion wäre zb Sigmoid (z) bei logisitscher Regression (Workarround für Transformation zu 0-1)\n",
        "# Relu filtert alle z Werte unter 0 raus bzw sie werden zu 0, da nicht relevant -> Mit Relu kann Netzwerk nicht lineare Muster erkennen (Kurven, Kreise etc)\n",
        "# Softmax wandelt Vektor in Wahrscheinlichkeiten um (alle Zahlen im Vektor bekommen ihre prozentuale Wahrscheinlichkeit 0-1, Summe des Vektors = 1) dann kann man am Schluss zb Sagen Bild sieht\n",
        "# 95% aus wie 7, 3 % wie 8, etc...\n",
        "#\n",
        "# Praxistipps:\n",
        "# Tiefe Netzwereke (mehr Layer mit weniger Neuronen) oft schneller gutes Ergebnis da sie von vorheriger Schicht lernen\n",
        "# Pyramidenform bei Neuronenzahl (64, 32, 16, Outputlayer 1 Neuron)\n",
        "# Mit kleinen Netzen starten und bei Bedarf erhöhen (aber aufpassen Overfitting)\n",
        "model = tf.keras.models.Sequential([\n",
        "  tf.keras.layers.Flatten(input_shape=(28, 28, 1)),#my figures have size 28 pixels x 28 pixels # Flatten is needed for img\n",
        "  tf.keras.layers.Dense(128, activation=\"relu\"), # Dense produces a fully conencted layer. #w/o Flatten, the input is given here\n",
        "  tf.keras.layers.Dense(64, activation=\"relu\"),\n",
        "  tf.keras.layers.Dense(10, activation=\"softmax\")#we use softmax because we are dealing with a multi-class classification\n",
        "])"
      ]
    },
    {
      "cell_type": "markdown",
      "metadata": {
        "id": "NF1I2IdjDBZI"
      },
      "source": [
        "Since my input are 2D images, I need first to \"flatten\" them into a 1-dimensional array. The number of input neurons will be the total number of pixels."
      ]
    },
    {
      "cell_type": "code",
      "execution_count": 10,
      "metadata": {
        "id": "YLJQ2BbIDBZI"
      },
      "outputs": [
        {
          "data": {
            "text/html": [
              "<pre style=\"white-space:pre;overflow-x:auto;line-height:normal;font-family:Menlo,'DejaVu Sans Mono',consolas,'Courier New',monospace\"><span style=\"font-weight: bold\">Model: \"sequential\"</span>\n",
              "</pre>\n"
            ],
            "text/plain": [
              "\u001b[1mModel: \"sequential\"\u001b[0m\n"
            ]
          },
          "metadata": {},
          "output_type": "display_data"
        },
        {
          "data": {
            "text/html": [
              "<pre style=\"white-space:pre;overflow-x:auto;line-height:normal;font-family:Menlo,'DejaVu Sans Mono',consolas,'Courier New',monospace\">┏━━━━━━━━━━━━━━━━━━━━━━━━━━━━━━━━━┳━━━━━━━━━━━━━━━━━━━━━━━━┳━━━━━━━━━━━━━━━┓\n",
              "┃<span style=\"font-weight: bold\"> Layer (type)                    </span>┃<span style=\"font-weight: bold\"> Output Shape           </span>┃<span style=\"font-weight: bold\">       Param # </span>┃\n",
              "┡━━━━━━━━━━━━━━━━━━━━━━━━━━━━━━━━━╇━━━━━━━━━━━━━━━━━━━━━━━━╇━━━━━━━━━━━━━━━┩\n",
              "│ flatten (<span style=\"color: #0087ff; text-decoration-color: #0087ff\">Flatten</span>)               │ (<span style=\"color: #00d7ff; text-decoration-color: #00d7ff\">None</span>, <span style=\"color: #00af00; text-decoration-color: #00af00\">784</span>)            │             <span style=\"color: #00af00; text-decoration-color: #00af00\">0</span> │\n",
              "├─────────────────────────────────┼────────────────────────┼───────────────┤\n",
              "│ dense (<span style=\"color: #0087ff; text-decoration-color: #0087ff\">Dense</span>)                   │ (<span style=\"color: #00d7ff; text-decoration-color: #00d7ff\">None</span>, <span style=\"color: #00af00; text-decoration-color: #00af00\">128</span>)            │       <span style=\"color: #00af00; text-decoration-color: #00af00\">100,480</span> │\n",
              "├─────────────────────────────────┼────────────────────────┼───────────────┤\n",
              "│ dense_1 (<span style=\"color: #0087ff; text-decoration-color: #0087ff\">Dense</span>)                 │ (<span style=\"color: #00d7ff; text-decoration-color: #00d7ff\">None</span>, <span style=\"color: #00af00; text-decoration-color: #00af00\">64</span>)             │         <span style=\"color: #00af00; text-decoration-color: #00af00\">8,256</span> │\n",
              "├─────────────────────────────────┼────────────────────────┼───────────────┤\n",
              "│ dense_2 (<span style=\"color: #0087ff; text-decoration-color: #0087ff\">Dense</span>)                 │ (<span style=\"color: #00d7ff; text-decoration-color: #00d7ff\">None</span>, <span style=\"color: #00af00; text-decoration-color: #00af00\">10</span>)             │           <span style=\"color: #00af00; text-decoration-color: #00af00\">650</span> │\n",
              "└─────────────────────────────────┴────────────────────────┴───────────────┘\n",
              "</pre>\n"
            ],
            "text/plain": [
              "┏━━━━━━━━━━━━━━━━━━━━━━━━━━━━━━━━━┳━━━━━━━━━━━━━━━━━━━━━━━━┳━━━━━━━━━━━━━━━┓\n",
              "┃\u001b[1m \u001b[0m\u001b[1mLayer (type)                   \u001b[0m\u001b[1m \u001b[0m┃\u001b[1m \u001b[0m\u001b[1mOutput Shape          \u001b[0m\u001b[1m \u001b[0m┃\u001b[1m \u001b[0m\u001b[1m      Param #\u001b[0m\u001b[1m \u001b[0m┃\n",
              "┡━━━━━━━━━━━━━━━━━━━━━━━━━━━━━━━━━╇━━━━━━━━━━━━━━━━━━━━━━━━╇━━━━━━━━━━━━━━━┩\n",
              "│ flatten (\u001b[38;5;33mFlatten\u001b[0m)               │ (\u001b[38;5;45mNone\u001b[0m, \u001b[38;5;34m784\u001b[0m)            │             \u001b[38;5;34m0\u001b[0m │\n",
              "├─────────────────────────────────┼────────────────────────┼───────────────┤\n",
              "│ dense (\u001b[38;5;33mDense\u001b[0m)                   │ (\u001b[38;5;45mNone\u001b[0m, \u001b[38;5;34m128\u001b[0m)            │       \u001b[38;5;34m100,480\u001b[0m │\n",
              "├─────────────────────────────────┼────────────────────────┼───────────────┤\n",
              "│ dense_1 (\u001b[38;5;33mDense\u001b[0m)                 │ (\u001b[38;5;45mNone\u001b[0m, \u001b[38;5;34m64\u001b[0m)             │         \u001b[38;5;34m8,256\u001b[0m │\n",
              "├─────────────────────────────────┼────────────────────────┼───────────────┤\n",
              "│ dense_2 (\u001b[38;5;33mDense\u001b[0m)                 │ (\u001b[38;5;45mNone\u001b[0m, \u001b[38;5;34m10\u001b[0m)             │           \u001b[38;5;34m650\u001b[0m │\n",
              "└─────────────────────────────────┴────────────────────────┴───────────────┘\n"
            ]
          },
          "metadata": {},
          "output_type": "display_data"
        },
        {
          "data": {
            "text/html": [
              "<pre style=\"white-space:pre;overflow-x:auto;line-height:normal;font-family:Menlo,'DejaVu Sans Mono',consolas,'Courier New',monospace\"><span style=\"font-weight: bold\"> Total params: </span><span style=\"color: #00af00; text-decoration-color: #00af00\">109,386</span> (427.29 KB)\n",
              "</pre>\n"
            ],
            "text/plain": [
              "\u001b[1m Total params: \u001b[0m\u001b[38;5;34m109,386\u001b[0m (427.29 KB)\n"
            ]
          },
          "metadata": {},
          "output_type": "display_data"
        },
        {
          "data": {
            "text/html": [
              "<pre style=\"white-space:pre;overflow-x:auto;line-height:normal;font-family:Menlo,'DejaVu Sans Mono',consolas,'Courier New',monospace\"><span style=\"font-weight: bold\"> Trainable params: </span><span style=\"color: #00af00; text-decoration-color: #00af00\">109,386</span> (427.29 KB)\n",
              "</pre>\n"
            ],
            "text/plain": [
              "\u001b[1m Trainable params: \u001b[0m\u001b[38;5;34m109,386\u001b[0m (427.29 KB)\n"
            ]
          },
          "metadata": {},
          "output_type": "display_data"
        },
        {
          "data": {
            "text/html": [
              "<pre style=\"white-space:pre;overflow-x:auto;line-height:normal;font-family:Menlo,'DejaVu Sans Mono',consolas,'Courier New',monospace\"><span style=\"font-weight: bold\"> Non-trainable params: </span><span style=\"color: #00af00; text-decoration-color: #00af00\">0</span> (0.00 B)\n",
              "</pre>\n"
            ],
            "text/plain": [
              "\u001b[1m Non-trainable params: \u001b[0m\u001b[38;5;34m0\u001b[0m (0.00 B)\n"
            ]
          },
          "metadata": {},
          "output_type": "display_data"
        }
      ],
      "source": [
        "\n",
        "model.summary()"
      ]
    },
    {
      "cell_type": "markdown",
      "metadata": {
        "id": "DHYRFQznDBZI"
      },
      "source": [
        "Define now which cost function to minimize in the .compile method. Take \"sgd\" as optimizer and track the accuracy as metric.\n",
        "\n",
        "For classification:Pay attention to the last layer if sigmoid or softmax is explicitly indicated, then from_logits = False\n",
        "\n",
        "Notabene: Here a Sparse Categorical Crossentropy is used, becuase we are dealing with a multi-class classification If it would be a binary classification, then the loss function (i.e. the cost function) would have been Binary Crossentropy\n",
        "\n",
        "For a full lists of cost functions available in tf.keras (both for Regression and Classification) https://www.tensorflow.org/api_docs/python/tf/keras/losses"
      ]
    },
    {
      "cell_type": "code",
      "execution_count": 11,
      "metadata": {
        "id": "TEKPjR3mDBZI"
      },
      "outputs": [],
      "source": [
        "# TODO: Compile the model with appropriate loss, optimizer, and metrics (the choice of loss function depends on the problem you are facing)\n",
        "# model.compile(...)\n",
        "\n",
        "\n",
        "# loss... -> Wahl der Loss Function (die angiebt wie schlecht Vorhersage war) die beim Training minimiert werden soll:\n",
        "# Multi-class: softmax + SparseCategoricalCrossentropy (loss=\"SparseCategoricalCrossentropy\")\n",
        "# Binary: sigmoid + BinaryCrossentropy (loss=\"BinaryCrossentropy\")\n",
        "# Regression: linear + MeanSquaredError (loss=\"MeanSquaredError\")\n",
        "# (from_logits=False) bei Klassifikation setzen wenn ich am Ende des NN schon Softmax (oder Sigmoid oä) verwende (true wäre wenn Rohe Ausgabe ohne den Outputlayer hätte)\n",
        "# \n",
        "# Optimizer = Lernalogrithmus der die Gewichte im Modell anpasst (Backpropagation) und versucht Lossfunction zu minimieren\n",
        "# Gradient Descent: .SGD() (Stochastic, berechnet Gewichtsupdate mit 1 Datenpunkt statt allen) (Zittrig, Problem mit lokalen Minima) -> Viel Kontrolle & gut bei grossen Datensätzen, klassische Variante\n",
        "# Momentum: optimizer = tf.keras.optimizers.SGD(momentum=0.9) -> bei lokalen Minima (merkt sich Richtung und nimmt Schwung wie Ball im Tal)\n",
        "# RMSProp: .RMSProp() Schaut wie stark sich die Gewichte ändern -> jedes Gewicht bekommt eigenen Lernrate (gut bei komplexen Problemen)\n",
        "# Adam: .Adam() -> Kombi RMS & Momentum, sehr stabil\n",
        "#\n",
        "# Metrics = Metrik die zeigt wie gut Modell ist (für mich als Info, wird nicht zum lernen verwendet)\n",
        "# \n",
        "# Multi-class: \"accuracy\" Wieviel % der Vorhersagen waren korrekt (nur bei balancierten Klassen, sonst wenn zb. 99% A hätte man 99% genau mit immer A nehmen)\n",
        "#  | \"sparse_categorical_accuracy\" Accuracy speziell für integer Labels wie bei MNIST (zb 0-9) wenn SparseCategoricalCrossentropy als Loss.\n",
        "# Binary: \"binary_accuracy\" (zb. Spam / not)\n",
        "# One-hot-Labels: \"categorical_accuracy\"\n",
        "# Regression: \t\"tf.keras.metrics.MeanSquaredError()\" -> Quadratischer Fehler – wird stärker bestraft bei großen Fehlern\n",
        "#  | \"...MeanAbsoluteError()\" -> Durchschnittlicher Fehlerbetrag bei Regression (robust ggn Ausreiser)\n",
        "# Sonstige Klassif: confusion_matrics | Precision wv predicted Positives sind Positiv (TP / (TP+FP)) zb für Spam (falsch Positive (also Mail das eig kein Spam) teuer)\n",
        "# | Recall wv der tatsächlichen Positiven hat das Modell erkannt (TP / (TP+FN)) zb für Medizin, wenn keine positiven übersehen darf\n",
        "# Sonstige Regression: R2 Anteil der erklärten Varianz, wie gut Modell im Vgl zu Random Modell 1 = perfekt 0 = Random\n",
        "# | RMSE wenn Einheit gleich wie Zielgrösse (zb Meter, Temp etc)\n",
        "model.compile(loss=tf.keras.losses.SparseCategoricalCrossentropy(from_logits=False),\n",
        "              optimizer=tf.keras.optimizers.Adam(),\n",
        "              metrics=[\"accuracy\"])"
      ]
    },
    {
      "cell_type": "code",
      "execution_count": 12,
      "metadata": {
        "id": "U9lswuT4DBZI"
      },
      "outputs": [
        {
          "name": "stdout",
          "output_type": "stream",
          "text": [
            "Epoch 1/15\n",
            "\u001b[1m1719/1719\u001b[0m \u001b[32m━━━━━━━━━━━━━━━━━━━━\u001b[0m\u001b[37m\u001b[0m \u001b[1m5s\u001b[0m 2ms/step - accuracy: 0.8690 - loss: 0.4501 - val_accuracy: 0.9594 - val_loss: 0.1263\n",
            "Epoch 2/15\n",
            "\u001b[1m1719/1719\u001b[0m \u001b[32m━━━━━━━━━━━━━━━━━━━━\u001b[0m\u001b[37m\u001b[0m \u001b[1m4s\u001b[0m 2ms/step - accuracy: 0.9662 - loss: 0.1090 - val_accuracy: 0.9714 - val_loss: 0.0962\n",
            "Epoch 3/15\n",
            "\u001b[1m1719/1719\u001b[0m \u001b[32m━━━━━━━━━━━━━━━━━━━━\u001b[0m\u001b[37m\u001b[0m \u001b[1m4s\u001b[0m 2ms/step - accuracy: 0.9784 - loss: 0.0696 - val_accuracy: 0.9756 - val_loss: 0.0818\n",
            "Epoch 4/15\n",
            "\u001b[1m1719/1719\u001b[0m \u001b[32m━━━━━━━━━━━━━━━━━━━━\u001b[0m\u001b[37m\u001b[0m \u001b[1m4s\u001b[0m 2ms/step - accuracy: 0.9810 - loss: 0.0569 - val_accuracy: 0.9762 - val_loss: 0.0758\n",
            "Epoch 5/15\n",
            "\u001b[1m1719/1719\u001b[0m \u001b[32m━━━━━━━━━━━━━━━━━━━━\u001b[0m\u001b[37m\u001b[0m \u001b[1m4s\u001b[0m 2ms/step - accuracy: 0.9872 - loss: 0.0396 - val_accuracy: 0.9764 - val_loss: 0.0801\n",
            "Epoch 6/15\n",
            "\u001b[1m1719/1719\u001b[0m \u001b[32m━━━━━━━━━━━━━━━━━━━━\u001b[0m\u001b[37m\u001b[0m \u001b[1m4s\u001b[0m 2ms/step - accuracy: 0.9900 - loss: 0.0293 - val_accuracy: 0.9758 - val_loss: 0.0838\n",
            "Epoch 7/15\n",
            "\u001b[1m1719/1719\u001b[0m \u001b[32m━━━━━━━━━━━━━━━━━━━━\u001b[0m\u001b[37m\u001b[0m \u001b[1m5s\u001b[0m 2ms/step - accuracy: 0.9913 - loss: 0.0259 - val_accuracy: 0.9760 - val_loss: 0.0920\n",
            "Epoch 8/15\n",
            "\u001b[1m1719/1719\u001b[0m \u001b[32m━━━━━━━━━━━━━━━━━━━━\u001b[0m\u001b[37m\u001b[0m \u001b[1m4s\u001b[0m 2ms/step - accuracy: 0.9927 - loss: 0.0232 - val_accuracy: 0.9780 - val_loss: 0.0759\n",
            "Epoch 9/15\n",
            "\u001b[1m1719/1719\u001b[0m \u001b[32m━━━━━━━━━━━━━━━━━━━━\u001b[0m\u001b[37m\u001b[0m \u001b[1m4s\u001b[0m 2ms/step - accuracy: 0.9939 - loss: 0.0188 - val_accuracy: 0.9742 - val_loss: 0.1000\n",
            "Epoch 10/15\n",
            "\u001b[1m1719/1719\u001b[0m \u001b[32m━━━━━━━━━━━━━━━━━━━━\u001b[0m\u001b[37m\u001b[0m \u001b[1m4s\u001b[0m 2ms/step - accuracy: 0.9938 - loss: 0.0176 - val_accuracy: 0.9752 - val_loss: 0.1084\n",
            "Epoch 11/15\n",
            "\u001b[1m1719/1719\u001b[0m \u001b[32m━━━━━━━━━━━━━━━━━━━━\u001b[0m\u001b[37m\u001b[0m \u001b[1m4s\u001b[0m 2ms/step - accuracy: 0.9956 - loss: 0.0145 - val_accuracy: 0.9768 - val_loss: 0.0942\n",
            "Epoch 12/15\n",
            "\u001b[1m1719/1719\u001b[0m \u001b[32m━━━━━━━━━━━━━━━━━━━━\u001b[0m\u001b[37m\u001b[0m \u001b[1m4s\u001b[0m 2ms/step - accuracy: 0.9958 - loss: 0.0126 - val_accuracy: 0.9776 - val_loss: 0.1004\n",
            "Epoch 13/15\n",
            "\u001b[1m1719/1719\u001b[0m \u001b[32m━━━━━━━━━━━━━━━━━━━━\u001b[0m\u001b[37m\u001b[0m \u001b[1m4s\u001b[0m 2ms/step - accuracy: 0.9952 - loss: 0.0131 - val_accuracy: 0.9780 - val_loss: 0.1017\n",
            "Epoch 14/15\n",
            "\u001b[1m1719/1719\u001b[0m \u001b[32m━━━━━━━━━━━━━━━━━━━━\u001b[0m\u001b[37m\u001b[0m \u001b[1m4s\u001b[0m 2ms/step - accuracy: 0.9969 - loss: 0.0095 - val_accuracy: 0.9788 - val_loss: 0.1073\n",
            "Epoch 15/15\n",
            "\u001b[1m1719/1719\u001b[0m \u001b[32m━━━━━━━━━━━━━━━━━━━━\u001b[0m\u001b[37m\u001b[0m \u001b[1m5s\u001b[0m 2ms/step - accuracy: 0.9958 - loss: 0.0117 - val_accuracy: 0.9788 - val_loss: 0.1102\n"
          ]
        }
      ],
      "source": [
        "# TODO: Train the model using model.fit\n",
        "# history = model.fit(...) # 1 epoch is a full pass over the whole training set, let's tray for 15 eopchs\n",
        "\n",
        "\n",
        "# Epoch = Trainingsdurchläufe, Modell versucht bei jedem Durchlauf besser zu werden (aber zu viele = Overfitting)\n",
        "# model.fit(...) trainiert das Modell mit den Trainingsdaten (passt Gewichte an) \n",
        "# misst die Leistung auf den Validierungsdaten\n",
        "# Trainingsinfos werden in Variable history zur Analyse gespeichert\n",
        "history = model.fit(X_train, y_train, epochs=15,\n",
        "                    validation_data=(X_valid, y_valid))# 1 epoch is a full pass over the whole training set"
      ]
    },
    {
      "cell_type": "code",
      "execution_count": 13,
      "metadata": {
        "id": "a4hB8yMWDBZI"
      },
      "outputs": [
        {
          "name": "stdout",
          "output_type": "stream",
          "text": [
            "\u001b[1m313/313\u001b[0m \u001b[32m━━━━━━━━━━━━━━━━━━━━\u001b[0m\u001b[37m\u001b[0m \u001b[1m0s\u001b[0m 1ms/step - accuracy: 0.9759 - loss: 0.1214\n"
          ]
        },
        {
          "data": {
            "text/plain": [
              "[0.10176542401313782, 0.979200005531311]"
            ]
          },
          "execution_count": 13,
          "metadata": {},
          "output_type": "execute_result"
        }
      ],
      "source": [
        "# TODO: Evaluate the model on the test dataset\n",
        "# model.evaluate(...)\n",
        "\n",
        "\n",
        "# Modell wird auf Daten getestet die es bisher noch nie gesehen hat (Overfitting vermeiden)\n",
        "# Loss und Accuracy werden ausgegeben\n",
        "model.evaluate(X_test, y_test)"
      ]
    },
    {
      "cell_type": "markdown",
      "metadata": {
        "id": "GR8iYyZ9DBZJ"
      },
      "source": [
        "Let's now predict the digits for the first 3 images in the test set. Feel free to check more cases.\n",
        "First we predict the score associated which every category and then we find out which one is the one with highest score."
      ]
    },
    {
      "cell_type": "code",
      "execution_count": 14,
      "metadata": {
        "id": "2x50LD3lDBZJ"
      },
      "outputs": [
        {
          "name": "stdout",
          "output_type": "stream",
          "text": [
            "\u001b[1m1/1\u001b[0m \u001b[32m━━━━━━━━━━━━━━━━━━━━\u001b[0m\u001b[37m\u001b[0m \u001b[1m0s\u001b[0m 50ms/step\n"
          ]
        },
        {
          "data": {
            "text/plain": [
              "array([[0., 0., 0., 0., 0., 0., 0., 1., 0., 0.],\n",
              "       [0., 0., 1., 0., 0., 0., 0., 0., 0., 0.],\n",
              "       [0., 1., 0., 0., 0., 0., 0., 0., 0., 0.]], dtype=float32)"
            ]
          },
          "execution_count": 14,
          "metadata": {},
          "output_type": "execute_result"
        }
      ],
      "source": [
        "\n",
        "# In X_new werden die ersten 3 Bilder des Testdatensatzes gespeichert (Index 0-2) mit Slice [:3]\n",
        "X_new = X_test[:3]\n",
        "# Modell wird angewendendet auf die 3 Bilder und gibt Wahrscheinlichkeiten pro Zahl zurück (die erste sollte also eine 7 sein). Wahrsch werden in y_proba gespeichert.\n",
        "y_proba = model.predict(X_new)\n",
        "y_proba.round(2)"
      ]
    },
    {
      "cell_type": "code",
      "execution_count": 15,
      "metadata": {
        "id": "cRj6gzdCDBZJ"
      },
      "outputs": [
        {
          "data": {
            "text/plain": [
              "array([7, 2, 1])"
            ]
          },
          "execution_count": 15,
          "metadata": {},
          "output_type": "execute_result"
        }
      ],
      "source": [
        "\n",
        "# np.argmax sucht in jeder Zeile (Bild) von y_proba (mit den Wahrsch das oben erstellt) nach der höchsten Wahrscheinlichkeit und speichert die Predictions in y_pred\n",
        "y_pred=np.argmax(y_proba,axis=1)\n",
        "\n",
        "# Bei Binary wären die Wahrscheinlichkeiten in y_proba einzelne Werte die einfach die Wahrscheinlichkeit für y = 1 angeben zb [0.82, 0.12, 0.57, 0.33]. Dann untigen Code nutzen der bei über 50 % als 1 klassifiziert\n",
        "#\n",
        "#if you are working with binary classification, use instead the following line:\n",
        "#y_pred = (y_proba > 0.5).astype(\"int32\")\n",
        "\n",
        "y_pred"
      ]
    },
    {
      "cell_type": "markdown",
      "metadata": {
        "id": "7aV-fhuHDBZJ"
      },
      "source": [
        "Let's now visually check"
      ]
    },
    {
      "cell_type": "code",
      "execution_count": 16,
      "metadata": {
        "id": "cN1YzS4uDBZJ"
      },
      "outputs": [
        {
          "data": {
            "image/png": "[encoded data removed]",
            "text/plain": [
              "<Figure size 720x240 with 3 Axes>"
            ]
          },
          "metadata": {},
          "output_type": "display_data"
        }
      ],
      "source": [
        "# neue Grafikerstellen (grösssenangaben in zoll 7.2x2.4)\n",
        "plt.figure(figsize=(7.2, 2.4))\n",
        "# Durch jedes Bild in X_new durchgehen. enumerate gibt Index und Bild zurück\n",
        "for index, image in enumerate(X_new):\n",
        "    # plt.subplot(Zeilen, Spalten, Position) 1 Zeile, die 3 Bilder (Spalten), Position +1 da Index vom 1. Bild = 0\n",
        "    plt.subplot(1, 3, index + 1)\n",
        "    # Bild anzeigen, cmpap binary = schwarz weiss, interpolation nearest = keine unschärfe beim zoomen durch interpolation (neue pixel erzeugen aus umgebenen?)\n",
        "    plt.imshow(image, cmap=\"binary\", interpolation=\"nearest\")\n",
        "    # X Y Achsen ausblenden\n",
        "    plt.axis('off')\n",
        "\n",
        "# Horizontaler und Vertikaler Abstand zwischen den Bildern einfügen\n",
        "plt.subplots_adjust(wspace=0.2, hspace=0.5)\n",
        "\n",
        "plt.show()"
      ]
    },
    {
      "cell_type": "markdown",
      "metadata": {
        "id": "n5cuBVanDBZJ"
      },
      "source": [
        "### Experimental test\n",
        "\n",
        "The final test consist in a \"physical\" test.\n",
        "1) Draw on a piece of paper 1 single digit between 0 and 9.\n",
        "2) Take a picture with your webcam of it\n",
        "3) Test if the neural network can correctly identify also your handwriting\n",
        "\n",
        "\n",
        "To do that you need to preprocess first your image and put it in the right format, by using the Keras function 'load_img'\n",
        "https://www.tensorflow.org/api_docs/python/tf/keras/preprocessing/image/load_img\n",
        "ATTENTION: your image need to be resized in the same size that you used for training.... And pay attention to RGB images and grayscale!"
      ]
    },
    {
      "cell_type": "code",
      "execution_count": 17,
      "metadata": {
        "id": "Xdn0lFD-DBZJ"
      },
      "outputs": [],
      "source": [
        "\n",
        "######################\n",
        "# img = keras.preprocessing.image.load_img(#ADD YOUR CODE)\n",
        "\n",
        "# img_array = keras.preprocessing.image.img_to_array(img)\n",
        "# img_array = tf.expand_dims(img_array, 0) # Create a batch\n",
        "######################\n",
        "\n",
        "\n",
        "# Bild in Projekt bringen: Links im Explorer wo auch Jupyter NB ist rechtsklick machen und \"Hochladen\"\n",
        "#\n",
        "# Target Size verkleinert bild auf 28x28 (weil modell so trainiert wurde) und color mode für Graustufen wie im Training\n",
        "img = tf.keras.utils.load_img(\"test1.png\", target_size=(28, 28), color_mode=\"grayscale\")\n",
        "# Bild in Zahlenarray (Pixelwerte) umwandeln (da Graustufen ist nur 0-255 kein rgb). Dann normalisieren (0-1) indem durch 255 teile\n",
        "# 1-... Invertierung (umkehren) weil in MNIST die Bilder weiss auf schwarz sind\n",
        "img_array = 1 - tf.keras.utils.img_to_array(img) / 255.0\n",
        "# Hier wird jeder Pixel aus dem Bild geprüft ob dunkel genug um als Hintergrund zu gelten. Ergebnis ist ein Array mit True/false für jeden Pixel\n",
        "background = img_array < 0.5\n",
        "# Hier werden alle Pixel die kleiner als 0.5 (true) waren (also eher dunkel) auf 0 gesetzt (ganz schwarz) um rauschen zu reduzieren\n",
        "img_array[background] = 0.0\n",
        "# Tensor erwartet 4D (Anzahl Bilder, Höhe, Breite, Kanäle). Hier wird noch Dimension Anzahl Bilder mit neu dazugefügt. Daher 0, damit die Dimension an Stelle 0 im Array hinzugefügt wird \n",
        "# Restliche Infos sind bereits zuvor vorhanden.\n",
        "img_array = tf.expand_dims(img_array, 0)\n",
        "\n",
        "\n",
        "\n"
      ]
    },
    {
      "cell_type": "markdown",
      "metadata": {
        "id": "_7RUzhWCDBZK"
      },
      "source": [
        "Now you can simply predict the class of your image, as done just before for the MNIST test images.\n"
      ]
    },
    {
      "cell_type": "code",
      "execution_count": 21,
      "metadata": {
        "id": "euTAnHbiDBZK"
      },
      "outputs": [
        {
          "name": "stdout",
          "output_type": "stream",
          "text": [
            "This image most likely belongs to [5] with a 17.97 percent confidence.\n",
            "tf.Tensor(\n",
            "[0.09606291 0.08923025 0.0896784  0.09322233 0.08838073 0.17965549\n",
            " 0.08886447 0.0908924  0.0956567  0.08835625], shape=(10,), dtype=float32)\n"
          ]
        }
      ],
      "source": [
        "\n",
        "# Mein Bild wird an Modell übergeben und Wahrscheinlichkeiten pro Zahl berechnet\n",
        "# Training = False sagt Modell dass Testmodus nicht train\n",
        "# Predictions ist eine Variable vom Typ \"Tensor\" (Array das die Wahrscheinlichkeiten pro Zahl speichert)\n",
        "predictions = model(img_array, training = False)\n",
        "# Softmax weil Predictions Rohwerte (Logits sind) -> wandelt in Wahrscheinlichkeiten um\n",
        "score = tf.nn.softmax(predictions[0])\n",
        "\n",
        "print(\n",
        "    \"This image most likely belongs to {} with a {:.2f} percent confidence.\"\n",
        "# Hier wird wieder höchste Wahrscheinlichkeit rausgefiltert und als Prozentzahl zurückgegebene\n",
        "    .format(np.argmax(predictions,axis=1), 100 * np.max(score))\n",
        ")\n",
        "print(score)"
      ]
    },
    {
      "cell_type": "markdown",
      "metadata": {
        "id": "447ytJDuDBZK"
      },
      "source": [
        "Is the result correct?"
      ]
    },
    {
      "cell_type": "markdown",
      "metadata": {
        "id": "UUPBdTLmDBZK"
      },
      "source": [
        "### Plot the evolution of accuracy and loss\n",
        "The historical values of accuracy and loss during training and validation are stored during training in the variable \"history\".\n",
        "You can access them through history.history.\n",
        "Use this information to plot and compare the evolution of accuracy and loss for training and validation. What can you learn from this?"
      ]
    },
    {
      "cell_type": "code",
      "execution_count": null,
      "metadata": {
        "id": "HSIqGk5ADBZK"
      },
      "outputs": [
        {
          "data": {
            "image/png": "[encoded data removed]",
            "text/plain": [
              "<Figure size 1000x300 with 2 Axes>"
            ]
          },
          "metadata": {},
          "output_type": "display_data"
        }
      ],
      "source": [
        "\n",
        "# Overfitting (Variance) detected: Regularisierung (grosse Gewichtswerte bestrafen), kleineres Modell, mehr Daten\n",
        "# Underfitting (bias): Komplexer (mehr Layer, Neuronen etc)\n",
        "#\n",
        "# Overfitting: (wenn zb Training Error 1% und Validation Error 12 % -> Varianz 11 %)\n",
        "# Underfitting: wenn zb Training Error 16% und Val 17%\n",
        "#\n",
        "# Dropout: Zufälliges Abschalten von Neuronen während Training (wirkt wie Ensemble Training mit vielen kleinen Netzen)\n",
        "# Early Stopping: Beendet das Training automatisch, wenn sich die Validierungsmetrik nicht weiter verbessert -> schnellere Trainzeit und weniger Overfitting\n",
        "# Hier könnte man auch einige Epcoch früher stoppen. Beste Val. Leistung ca bei 7, zuvor schon immer mehr Overfitting und nur leichte Verbesserung bei Val\n",
        "\n",
        "\n",
        "plt.figure(figsize=(10,3))\n",
        "# Plot training & validation accuracy values\n",
        "plt.subplot(121)\n",
        "plt.plot(history.history['accuracy'])\n",
        "plt.plot(history.history['val_accuracy'])\n",
        "plt.title('Model accuracy')\n",
        "plt.ylabel('Accuracy')\n",
        "plt.xlabel('Epoch')\n",
        "plt.legend(['Train', 'Val'], loc='upper left')\n",
        "\n",
        "# Plot training & validation loss values\n",
        "plt.subplot(122)\n",
        "plt.plot(history.history['loss'])\n",
        "plt.plot(history.history['val_loss'])\n",
        "plt.title('Model loss')\n",
        "plt.ylabel('Loss')\n",
        "plt.xlabel('Epoch')\n",
        "plt.legend(['Train', 'Val'], loc='upper left')\n",
        "plt.show()"
      ]
    }
  ],
  "metadata": {
    "colab": {
      "provenance": []
    },
    "kernelspec": {
      "display_name": "Python 3",
      "name": "python3"
    },
    "language_info": {
      "codemirror_mode": {
        "name": "ipython",
        "version": 3
      },
      "file_extension": ".py",
      "mimetype": "text/x-python",
      "name": "python",
      "nbconvert_exporter": "python",
      "pygments_lexer": "ipython3",
      "version": "3.12.1"
    }
  },
  "nbformat": 4,
  "nbformat_minor": 0
}
